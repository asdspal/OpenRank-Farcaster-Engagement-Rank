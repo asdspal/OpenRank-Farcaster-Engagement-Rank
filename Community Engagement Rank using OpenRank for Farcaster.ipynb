{
 "cells": [
  {
   "cell_type": "markdown",
   "id": "3f3dbc21",
   "metadata": {},
   "source": [
    "## Why is Community Engagement Rank a good choice for Farcaster?\n",
    "\n",
    "Community Engagement Rank is an excellent choice for analyzing the Farcaster ecosystem for several reasons:\n",
    "\n",
    "**1. Decentralized Social Network**: Farcaster is a decentralized social protocol, making engagement metrics crucial for understanding user interactions and influence.\n",
    "\n",
    "**2. User Influence**: It helps identify the most influential and active users within the Farcaster community.\n",
    "\n",
    "**3. Content Quality**: By analyzing reactions and mentions, we can gauge the quality and impact of content shared on the platform.\n",
    "\n",
    "**4. Network Growth**: It provides insights into how the Farcaster network is growing and evolving over time.\n",
    "\n"
   ]
  },
  {
   "cell_type": "code",
   "execution_count": 16,
   "id": "07710c81",
   "metadata": {
    "scrolled": true
   },
   "outputs": [
    {
     "name": "stdout",
     "output_type": "stream",
     "text": [
      "Collecting openrank_sdk\n",
      "  Downloading openrank_sdk-0.2.2-py3-none-any.whl.metadata (14 kB)\n",
      "Requirement already satisfied: boto3>=1.0 in /home/pauli/miniconda3/lib/python3.9/site-packages (from openrank_sdk) (1.34.145)\n",
      "Requirement already satisfied: httpx>=0.6.7 in /home/pauli/miniconda3/lib/python3.9/site-packages (from openrank_sdk) (0.27.0)\n",
      "Requirement already satisfied: botocore<1.35.0,>=1.34.145 in /home/pauli/miniconda3/lib/python3.9/site-packages (from boto3>=1.0->openrank_sdk) (1.34.145)\n",
      "Requirement already satisfied: jmespath<2.0.0,>=0.7.1 in /home/pauli/miniconda3/lib/python3.9/site-packages (from boto3>=1.0->openrank_sdk) (1.0.1)\n",
      "Requirement already satisfied: s3transfer<0.11.0,>=0.10.0 in /home/pauli/miniconda3/lib/python3.9/site-packages (from boto3>=1.0->openrank_sdk) (0.10.2)\n",
      "Requirement already satisfied: anyio in /home/pauli/miniconda3/lib/python3.9/site-packages (from httpx>=0.6.7->openrank_sdk) (3.6.2)\n",
      "Requirement already satisfied: certifi in /home/pauli/miniconda3/lib/python3.9/site-packages (from httpx>=0.6.7->openrank_sdk) (2023.11.17)\n",
      "Requirement already satisfied: httpcore==1.* in /home/pauli/miniconda3/lib/python3.9/site-packages (from httpx>=0.6.7->openrank_sdk) (1.0.4)\n",
      "Requirement already satisfied: idna in /home/pauli/miniconda3/lib/python3.9/site-packages (from httpx>=0.6.7->openrank_sdk) (2.10)\n",
      "Requirement already satisfied: sniffio in /home/pauli/miniconda3/lib/python3.9/site-packages (from httpx>=0.6.7->openrank_sdk) (1.3.0)\n",
      "Requirement already satisfied: h11<0.15,>=0.13 in /home/pauli/miniconda3/lib/python3.9/site-packages (from httpcore==1.*->httpx>=0.6.7->openrank_sdk) (0.14.0)\n",
      "Requirement already satisfied: python-dateutil<3.0.0,>=2.1 in /home/pauli/miniconda3/lib/python3.9/site-packages (from botocore<1.35.0,>=1.34.145->boto3>=1.0->openrank_sdk) (2.8.2)\n",
      "Requirement already satisfied: urllib3<1.27,>=1.25.4 in /home/pauli/miniconda3/lib/python3.9/site-packages (from botocore<1.35.0,>=1.34.145->boto3>=1.0->openrank_sdk) (1.26.18)\n",
      "Requirement already satisfied: six>=1.5 in /home/pauli/miniconda3/lib/python3.9/site-packages (from python-dateutil<3.0.0,>=2.1->botocore<1.35.0,>=1.34.145->boto3>=1.0->openrank_sdk) (1.16.0)\n",
      "Downloading openrank_sdk-0.2.2-py3-none-any.whl (13 kB)\n",
      "Installing collected packages: openrank_sdk\n",
      "Successfully installed openrank_sdk-0.2.2\n"
     ]
    }
   ],
   "source": [
    "#Install necessary package\n",
    "!pip install openrank_sdk "
   ]
  },
  {
   "cell_type": "markdown",
   "id": "08c3200f",
   "metadata": {},
   "source": [
    "## OpenRank: A Brief Overview\n",
    "\n",
    "OpenRank is an open-source implementation of the EigenTrust algorithm, designed to compute trust scores in decentralized networks. It's particularly useful for analyzing and ranking entities in Web3 ecosystems, such as blockchain networks, decentralized social media platforms, and other peer-to-peer systems.\n",
    "\n",
    "Key features of OpenRank include:\n",
    "\n",
    "**1. Decentralized Trust Computation**: It calculates trust scores without relying on a central authority, making it ideal for decentralized networks.\n",
    "\n",
    "**2. Customizable**: It allows for the incorporation of pre-existing trust information (pretrust) and can be adapted to various types of interaction data.\n",
    "\n",
    "**3. Scalability**: OpenRank is designed to handle large-scale networks with millions of nodes and interactions.\n",
    "\n",
    "OpenRank is a powerful algorithm that operates on reputation graph data, which is constructed from peer-to-peer trust signals within a network. At its core, OpenRank interprets and analyzes complex webs of trust relationships, answering the fundamental question: \"Who trusts whom, by how much, and for what purpose?\"\n",
    "\n",
    "In this context:\n",
    "\n",
    "    1. Who (The Truster): Represents the entity extending trust. This could be a user, a node, or any participant in the network capable of expressing trust.\n",
    "\n",
    "    2. Whom (The Trustee): Denotes the recipient of trust. This is the entity being evaluated or trusted within the network.\n",
    "\n",
    "    3. How Much: Quantifies the degree or intensity of trust from the truster to the trustee. This could be represented as a numerical value or weight.\n",
    "\n",
    "    4. What (The Context): Specifies the nature or type of trust being extended. This crucial element provides context, defining the role or specific domain in which the trust is relevant.\n",
    "\n",
    "\n",
    "In the context of our Community Engagement Rank for Farcaster, OpenRank will use the interaction data (reactions and mentions) to compute trust scores for users. These scores will reflect each user's influence and engagement level within the Farcaster community, based on how often they're interacted with and mentioned by others.\n",
    "\n",
    "The OpenRank algorithm takes two main inputs:\n",
    "\n",
    "    1. Localtrust: This is derived from the direct interactions between users, which in our case comes from the SQL query results showing reactions and mentions.\n",
    "\n",
    "    2. Pretrust: This is a set of nodes (users) that are considered trustworthy from the outset. For Farcaster, this could be based on verified users or other criteria. We will be using Power Badge users from warpcast platform.\n",
    "\n",
    "By applying OpenRank to our Farcaster data, we can obtain a nuanced and sybil-resistant ranking of users based on their community engagement, providing valuable insights into the dynamics of the Farcaster ecosystem."
   ]
  },
  {
   "cell_type": "markdown",
   "id": "8d553340",
   "metadata": {},
   "source": [
    "## Power Badges\n",
    "\n",
    "Power badges are awarded to active, engaging, and non-spammy users on Warpcast. Benefits include:\n",
    "\n",
    "    1. Profile badge\n",
    "    2. Higher search ranking\n",
    "    3. Access to restricted channels\n",
    "    4. Increased follow recommendations\n",
    "\n",
    "Developers can access the list of badge holders via API for various purposes.\n",
    "\n",
    "The selection process is based on a PageRank-like system considering:\n",
    "\n",
    "    1. Recent activity\n",
    "    2. Engagement from other power users\n",
    "    3. Absence of spam flags\n",
    "\n",
    "To increase chances of earning a power badge:\n",
    "\n",
    "    1. Use Farcaster regularly\n",
    "    2. Create content that appeals to power users\n",
    "    3. Avoid posting spam or off-topic content\n",
    "\n",
    "This system aims to recognize and reward valuable contributors to the Warpcast community."
   ]
  },
  {
   "cell_type": "markdown",
   "id": "5d45ad4b",
   "metadata": {},
   "source": [
    "## LocalTrust\n",
    "\n",
    "Our Local Trust query for Farcaster focuses on two main types of interactions:\n",
    "\n",
    "    1. Reactions: When a user reacts to another user's cast (post).\n",
    "    2. Mentions: When a user mentions another user in their cast.\n",
    "\n",
    "The query aggregates these interactions over the past 30 days to create a recent engagement score. We use the OpenRank algorithm to calculate the final rank based on these interactions."
   ]
  },
  {
   "cell_type": "code",
   "execution_count": null,
   "id": "da0268f9",
   "metadata": {},
   "outputs": [],
   "source": [
    "## we will be using flipsidecrypto to get the data and export it as \"LocalTrust.csv\"\n",
    "\n",
    "WITH reactions AS (\n",
    "    SELECT \n",
    "        FID\n",
    "        TO_VARCHAR(TARGET_HASH) AS interaction_id,\n",
    "        COUNT(*) AS interactions\n",
    "    FROM \n",
    "        external.farcaster.fact_reactions\n",
    "    WHERE \n",
    "        TIMESTAMP >= DATEADD(day, -30, CURRENT_DATE())\n",
    "        AND DELETED_AT IS NULL\n",
    "    GROUP BY \n",
    "        FID, TARGET_HASH\n",
    "),\n",
    "mentions AS (\n",
    "    SELECT \n",
    "        FID\n",
    "        m.value AS interaction_id,\n",
    "        COUNT(*) AS interactions\n",
    "    FROM \n",
    "        external.farcaster.fact_casts,\n",
    "        LATERAL FLATTEN(PARSE_JSON(MENTIONS)) m\n",
    "    WHERE \n",
    "        TIMESTAMP >= DATEADD(day, -30, CURRENT_DATE())\n",
    "        AND DELETED_AT IS NULL\n",
    "    GROUP BY \n",
    "        FID, m.value\n",
    ")\n",
    "SELECT fid, interaction_id, interactions\n",
    "FROM reactions\n",
    "UNION ALL\n",
    "SELECT fid, interaction_id, interactions\n",
    "FROM mentions ORDER BY interactions DESC\n",
    "Limit 100000"
   ]
  },
  {
   "cell_type": "code",
   "execution_count": 1,
   "id": "770011a5",
   "metadata": {},
   "outputs": [
    {
     "data": {
      "text/html": [
       "<div>\n",
       "<style scoped>\n",
       "    .dataframe tbody tr th:only-of-type {\n",
       "        vertical-align: middle;\n",
       "    }\n",
       "\n",
       "    .dataframe tbody tr th {\n",
       "        vertical-align: top;\n",
       "    }\n",
       "\n",
       "    .dataframe thead th {\n",
       "        text-align: right;\n",
       "    }\n",
       "</style>\n",
       "<table border=\"1\" class=\"dataframe\">\n",
       "  <thead>\n",
       "    <tr style=\"text-align: right;\">\n",
       "      <th></th>\n",
       "      <th>FID</th>\n",
       "      <th>INTERACTION_ID</th>\n",
       "      <th>INTERACTIONS</th>\n",
       "    </tr>\n",
       "  </thead>\n",
       "  <tbody>\n",
       "    <tr>\n",
       "      <th>0</th>\n",
       "      <td>403507</td>\n",
       "      <td>781098</td>\n",
       "      <td>87232.0</td>\n",
       "    </tr>\n",
       "    <tr>\n",
       "      <th>1</th>\n",
       "      <td>538721</td>\n",
       "      <td>503116</td>\n",
       "      <td>10512.0</td>\n",
       "    </tr>\n",
       "    <tr>\n",
       "      <th>2</th>\n",
       "      <td>284439</td>\n",
       "      <td>284439</td>\n",
       "      <td>6809.0</td>\n",
       "    </tr>\n",
       "    <tr>\n",
       "      <th>3</th>\n",
       "      <td>284439</td>\n",
       "      <td>8446</td>\n",
       "      <td>5764.0</td>\n",
       "    </tr>\n",
       "    <tr>\n",
       "      <th>4</th>\n",
       "      <td>405154</td>\n",
       "      <td>244062</td>\n",
       "      <td>5227.0</td>\n",
       "    </tr>\n",
       "  </tbody>\n",
       "</table>\n",
       "</div>"
      ],
      "text/plain": [
       "      FID INTERACTION_ID  INTERACTIONS\n",
       "0  403507         781098       87232.0\n",
       "1  538721         503116       10512.0\n",
       "2  284439         284439        6809.0\n",
       "3  284439           8446        5764.0\n",
       "4  405154         244062        5227.0"
      ]
     },
     "execution_count": 1,
     "metadata": {},
     "output_type": "execute_result"
    }
   ],
   "source": [
    "## let read the data\n",
    "import pandas as pd\n",
    "\n",
    "localtrust = pd.read_csv(\"LocalTrust.csv\")\n",
    "localtrust.head()"
   ]
  },
  {
   "cell_type": "code",
   "execution_count": 2,
   "id": "78af30e2",
   "metadata": {},
   "outputs": [],
   "source": [
    "localtrust = localtrust[localtrust['FID'] != localtrust['INTERACTION_ID']]\n",
    "localtrust = localtrust[localtrust['INTERACTIONS']>10]"
   ]
  },
  {
   "cell_type": "code",
   "execution_count": 3,
   "id": "812bbc0b",
   "metadata": {},
   "outputs": [
    {
     "data": {
      "text/plain": [
       "(25103, 3)"
      ]
     },
     "execution_count": 3,
     "metadata": {},
     "output_type": "execute_result"
    }
   ],
   "source": [
    "localtrust.shape"
   ]
  },
  {
   "cell_type": "markdown",
   "id": "9fe701fa",
   "metadata": {},
   "source": [
    "## PreTrust\n",
    "\n",
    "As said earlier, we will be use power badge users."
   ]
  },
  {
   "cell_type": "code",
   "execution_count": 3,
   "id": "322f4371",
   "metadata": {},
   "outputs": [
    {
     "name": "stdout",
     "output_type": "stream",
     "text": [
      "  % Total    % Received % Xferd  Average Speed   Time    Time     Time  Current\n",
      "                                 Dload  Upload   Total   Spent    Left  Speed\n",
      "100 11937  100 11937    0     0  11282      0  0:00:01  0:00:01 --:--:-- 11282\n"
     ]
    }
   ],
   "source": [
    "#we will user warpcast api to get the current power badge users.\n",
    "!curl https://api.warpcast.com/v2/power-badge-users | jq > power-badge.json"
   ]
  },
  {
   "cell_type": "code",
   "execution_count": 4,
   "id": "b3f24811",
   "metadata": {},
   "outputs": [],
   "source": [
    "import json\n",
    "\n",
    "with open(\"power-badge.json\", \"r\") as f:\n",
    "    powerBadgeUsers = json.load(f)"
   ]
  },
  {
   "cell_type": "code",
   "execution_count": 5,
   "id": "c73a0a36",
   "metadata": {},
   "outputs": [],
   "source": [
    "pretrust = [str(x) for x in powerBadgeUsers['result']['fids']]"
   ]
  },
  {
   "cell_type": "markdown",
   "id": "fbbaa166",
   "metadata": {},
   "source": [
    "## OpenRank"
   ]
  },
  {
   "cell_type": "code",
   "execution_count": 8,
   "id": "a1497d89",
   "metadata": {},
   "outputs": [],
   "source": [
    "#let's select only those power badge user who are in localtrust\n",
    "all_fids = set(localtrust['FID']).union(set(localtrust['INTERACTION_ID']))\n",
    "pretrust = [x for x in pretrust if x in localtrust['FID']]"
   ]
  },
  {
   "cell_type": "code",
   "execution_count": 9,
   "id": "87925059",
   "metadata": {},
   "outputs": [],
   "source": [
    "# create the graphs from LocalTrust and preTrust\n",
    "\n",
    "localtrust_graph = [{'i': row['FID'], 'j':row['INTERACTION_ID'], 'v':row['INTERACTIONS']} for i, row in localtrust.iterrows()]\n",
    "pretrust_graph = [{'i':fid, 'v':10000} for fid in pretrust]"
   ]
  },
  {
   "cell_type": "code",
   "execution_count": 10,
   "id": "9ce7011d",
   "metadata": {},
   "outputs": [
    {
     "data": {
      "text/plain": [
       "[{'i': '537227', 'v': 0.03328530686863001},\n",
       " {'i': '321969', 'v': 0.02127077065196924},\n",
       " {'i': '12741', 'v': 0.019893169985400347},\n",
       " {'i': '781098', 'v': 0.012732215949724532},\n",
       " {'i': '343261', 'v': 0.010746917761456441},\n",
       " {'i': '366713', 'v': 0.01012369557665069},\n",
       " {'i': '388302', 'v': 0.008823624232050832},\n",
       " {'i': '531162', 'v': 0.008436076346563993},\n",
       " {'i': '602', 'v': 0.00703637422581674},\n",
       " {'i': '20909', 'v': 0.006207504371209033}]"
      ]
     },
     "execution_count": 10,
     "metadata": {},
     "output_type": "execute_result"
    }
   ],
   "source": [
    "# Use openrank\n",
    "from openrank_sdk import EigenTrust\n",
    "\n",
    "a = EigenTrust()\n",
    "farcaster_user_rank = a.run_eigentrust(localtrust_graph, pretrust_graph)\n",
    "farcaster_user_rank[:10]"
   ]
  },
  {
   "cell_type": "code",
   "execution_count": null,
   "id": "274e2a1d",
   "metadata": {},
   "outputs": [],
   "source": []
  }
 ],
 "metadata": {
  "kernelspec": {
   "display_name": "Python 3 (ipykernel)",
   "language": "python",
   "name": "python3"
  },
  "language_info": {
   "codemirror_mode": {
    "name": "ipython",
    "version": 3
   },
   "file_extension": ".py",
   "mimetype": "text/x-python",
   "name": "python",
   "nbconvert_exporter": "python",
   "pygments_lexer": "ipython3",
   "version": "3.9.17"
  }
 },
 "nbformat": 4,
 "nbformat_minor": 5
}
